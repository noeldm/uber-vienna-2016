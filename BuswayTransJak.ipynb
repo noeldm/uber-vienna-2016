{
 "cells": [
  {
   "cell_type": "code",
   "execution_count": 1,
   "metadata": {
    "code_folding": [
     0
    ]
   },
   "outputs": [],
   "source": [
    "#package\n",
    "import numpy as np\n",
    "import pandas as pd\n",
    "import matplotlib\n",
    "import matplotlib.pyplot as plt\n",
    "import seaborn as sns\n",
    "sns.set_style('whitegrid')\n",
    "%matplotlib inline\n",
    "\n",
    "import os, json, requests, pickle\n",
    "import warnings\n",
    "warnings.filterwarnings('ignore')"
   ]
  },
  {
   "cell_type": "markdown",
   "metadata": {},
   "source": [
    "# Jakarta Smart City - TransJakarta 🚌\n",
    "\n",
    "For this capstone project i will be analyzing some TransJakarta call data from [Tableau Public](https://public.tableau.com/vizql/w/Tap-InHalteTransJakartaAgustus2016_0/v/Dashboard2/viewData/sessions/CE382C745645466BBB491DB8B31FA079-0:0/views/10625182665948828489_1461146462161051787?maxrows=200&viz=%7B%22worksheet%22:%22Pengguna%20tiap%20Koridor/jam%22,%22dashboard%22:%22Dashboard%202%22%7D). \n",
    "____\n",
    "In this analysis, some notion of statistics and hypothesis test are used but are very easy to follow. This [handbook of statistics](http://www.biostathandbook.com/index.html) can be used as a reference to explain basics.\n",
    "\n",
    "____\n",
    "\n",
    "## Warm up\n"
   ]
  },
  {
   "cell_type": "markdown",
   "metadata": {},
   "source": [
    "***Let's first download the dataset and print out the its size***"
   ]
  },
  {
   "cell_type": "code",
   "execution_count": 3,
   "metadata": {
    "code_folding": [
     1,
     3
    ]
   },
   "outputs": [
    {
     "name": "stdout",
     "output_type": "stream",
     "text": [
      "Number of rows / How many records are included in the dataset? : 74457\n",
      "Number of columns:  11\n"
     ]
    }
   ],
   "source": [
    "# Download the TransJakarta - August 2016 dataset\n",
    "if os.path.exists('TransJkt.csv'): # Check if the dataset is present on local disk and load it\n",
    "    busway = pd.read_csv('TransJkt.csv',sep = ';')\n",
    "else: # Download dataset if not available on disk\n",
    "    url = \"https://public.tableau.com/vizql/w/Tap-InHalteTransJakartaAgustus2016_0/v/Dashboard2/viewData/sessions/CE382C745645466BBB491DB8B31FA079-0:0/views/10625182665948828489_1461146462161051787?maxrows=200&viz=%7B%22worksheet%22:%22Pengguna%20tiap%20Koridor/jam%22,%22dashboard%22:%22Dashboard%202%22%7D\"\n",
    "    busway = pd.read_csv(url)\n",
    "    data.to_csv(url.split('/')[-1])\n",
    "\n",
    "# Print the size of the dataset\n",
    "print (\"Number of rows / How many records are included in the dataset? :\", busway.shape[0])\n",
    "print (\"Number of columns: \", busway.shape[1])"
   ]
  },
  {
   "cell_type": "markdown",
   "metadata": {},
   "source": [
    "** Check the head of busway **"
   ]
  },
  {
   "cell_type": "code",
   "execution_count": 4,
   "metadata": {},
   "outputs": [
    {
     "data": {
      "text/html": [
       "<div>\n",
       "<style scoped>\n",
       "    .dataframe tbody tr th:only-of-type {\n",
       "        vertical-align: middle;\n",
       "    }\n",
       "\n",
       "    .dataframe tbody tr th {\n",
       "        vertical-align: top;\n",
       "    }\n",
       "\n",
       "    .dataframe thead th {\n",
       "        text-align: right;\n",
       "    }\n",
       "</style>\n",
       "<table border=\"1\" class=\"dataframe\">\n",
       "  <thead>\n",
       "    <tr style=\"text-align: right;\">\n",
       "      <th></th>\n",
       "      <th>Tap-in</th>\n",
       "      <th>Halte</th>\n",
       "      <th>Latitude</th>\n",
       "      <th>Longitude</th>\n",
       "      <th>Count.Pengguna</th>\n",
       "      <th>Hari</th>\n",
       "      <th>Hour</th>\n",
       "      <th>Koridor</th>\n",
       "      <th>Nama Halte</th>\n",
       "      <th>Order</th>\n",
       "      <th>Status</th>\n",
       "    </tr>\n",
       "  </thead>\n",
       "  <tbody>\n",
       "    <tr>\n",
       "      <th>0</th>\n",
       "      <td>53.0</td>\n",
       "      <td>Kota</td>\n",
       "      <td>-6.137.797</td>\n",
       "      <td>106.814.012</td>\n",
       "      <td>106</td>\n",
       "      <td>Friday</td>\n",
       "      <td>0</td>\n",
       "      <td>1</td>\n",
       "      <td>kota</td>\n",
       "      <td>0</td>\n",
       "      <td>depart</td>\n",
       "    </tr>\n",
       "    <tr>\n",
       "      <th>1</th>\n",
       "      <td>4.5</td>\n",
       "      <td>Glodok</td>\n",
       "      <td>-6.144.854</td>\n",
       "      <td>106.815.538</td>\n",
       "      <td>9</td>\n",
       "      <td>Friday</td>\n",
       "      <td>0</td>\n",
       "      <td>1</td>\n",
       "      <td>glodok</td>\n",
       "      <td>1</td>\n",
       "      <td>depart</td>\n",
       "    </tr>\n",
       "  </tbody>\n",
       "</table>\n",
       "</div>"
      ],
      "text/plain": [
       "   Tap-in   Halte    Latitude    Longitude  Count.Pengguna    Hari  Hour  \\\n",
       "0    53.0    Kota  -6.137.797  106.814.012             106  Friday     0   \n",
       "1     4.5  Glodok  -6.144.854  106.815.538               9  Friday     0   \n",
       "\n",
       "   Koridor Nama Halte  Order  Status  \n",
       "0        1       kota      0  depart  \n",
       "1        1     glodok      1  depart  "
      ]
     },
     "execution_count": 4,
     "metadata": {},
     "output_type": "execute_result"
    }
   ],
   "source": [
    "busway.head(2)"
   ]
  },
  {
   "cell_type": "markdown",
   "metadata": {},
   "source": [
    "**What is the average passengers ?**"
   ]
  },
  {
   "cell_type": "code",
   "execution_count": 5,
   "metadata": {},
   "outputs": [
    {
     "data": {
      "text/plain": [
       "333.9102032045342"
      ]
     },
     "execution_count": 5,
     "metadata": {},
     "output_type": "execute_result"
    }
   ],
   "source": [
    "busway['Count.Pengguna'].mean()"
   ]
  },
  {
   "cell_type": "markdown",
   "metadata": {},
   "source": [
    "** Check the info() of the busway **"
   ]
  },
  {
   "cell_type": "code",
   "execution_count": 6,
   "metadata": {},
   "outputs": [
    {
     "name": "stdout",
     "output_type": "stream",
     "text": [
      "<class 'pandas.core.frame.DataFrame'>\n",
      "RangeIndex: 74457 entries, 0 to 74456\n",
      "Data columns (total 11 columns):\n",
      "Tap-in            74457 non-null float64\n",
      "Halte             74457 non-null object\n",
      "Latitude          74457 non-null object\n",
      "Longitude         74457 non-null object\n",
      "Count.Pengguna    74457 non-null int64\n",
      "Hari              74457 non-null object\n",
      "Hour              74457 non-null int64\n",
      "Koridor           74457 non-null int64\n",
      "Nama Halte        74457 non-null object\n",
      "Order             74457 non-null int64\n",
      "Status            74457 non-null object\n",
      "dtypes: float64(1), int64(4), object(6)\n",
      "memory usage: 6.2+ MB\n"
     ]
    }
   ],
   "source": [
    "busway.info()"
   ]
  },
  {
   "cell_type": "markdown",
   "metadata": {},
   "source": [
    "** What are the top 3 days for TransJakarta? **"
   ]
  },
  {
   "cell_type": "code",
   "execution_count": 7,
   "metadata": {},
   "outputs": [
    {
     "data": {
      "text/plain": [
       "Wednesday    10687\n",
       "Tuesday      10674\n",
       "Monday       10657\n",
       "Name: Hari, dtype: int64"
      ]
     },
     "execution_count": 7,
     "metadata": {},
     "output_type": "execute_result"
    }
   ],
   "source": [
    "busway['Hari'].value_counts().head(3)"
   ]
  },
  {
   "cell_type": "markdown",
   "metadata": {},
   "source": [
    "** What are the least 3 days for TransJakarta? **"
   ]
  },
  {
   "cell_type": "code",
   "execution_count": 6,
   "metadata": {},
   "outputs": [
    {
     "data": {
      "text/plain": [
       "Thursday    10617\n",
       "Saturday    10614\n",
       "Friday      10559\n",
       "Name: Hari, dtype: int64"
      ]
     },
     "execution_count": 6,
     "metadata": {},
     "output_type": "execute_result"
    }
   ],
   "source": [
    "busway['Hari'].value_counts().tail(3)"
   ]
  },
  {
   "cell_type": "markdown",
   "metadata": {},
   "source": [
    "** Take a look at the 'Koridor' column, how many bus coridors are there? (coridors) **"
   ]
  },
  {
   "cell_type": "code",
   "execution_count": 7,
   "metadata": {},
   "outputs": [
    {
     "data": {
      "text/plain": [
       "12"
      ]
     },
     "execution_count": 7,
     "metadata": {},
     "output_type": "execute_result"
    }
   ],
   "source": [
    "busway['Koridor'].nunique()"
   ]
  },
  {
   "cell_type": "markdown",
   "metadata": {},
   "source": [
    "** What is the most busiest coridors for Trans Jakarta based off of this new column? **"
   ]
  },
  {
   "cell_type": "code",
   "execution_count": 47,
   "metadata": {
    "code_folding": [
     0
    ]
   },
   "outputs": [
    {
     "data": {
      "text/plain": [
       "<matplotlib.axes._subplots.AxesSubplot at 0x1a1ce1ad30>"
      ]
     },
     "execution_count": 47,
     "metadata": {},
     "output_type": "execute_result"
    },
    {
     "data": {
      "image/png": "[encoded data removed]",
      "text/plain": [
       "<Figure size 432x288 with 1 Axes>"
      ]
     },
     "metadata": {},
     "output_type": "display_data"
    }
   ],
   "source": [
    "#Koridor 9\n",
    "sns.countplot(x='Koridor',data=busway,palette='inferno')"
   ]
  },
  {
   "cell_type": "markdown",
   "metadata": {},
   "source": [
    "** Now i create a groupby object called byHour, where i group the DataFrame by the hour column and use the count() method for aggregation. Using the head() method on this returned DataFrame. **"
   ]
  },
  {
   "cell_type": "code",
   "execution_count": 8,
   "metadata": {},
   "outputs": [
    {
     "data": {
      "text/html": [
       "<div>\n",
       "<style scoped>\n",
       "    .dataframe tbody tr th:only-of-type {\n",
       "        vertical-align: middle;\n",
       "    }\n",
       "\n",
       "    .dataframe tbody tr th {\n",
       "        vertical-align: top;\n",
       "    }\n",
       "\n",
       "    .dataframe thead th {\n",
       "        text-align: right;\n",
       "    }\n",
       "</style>\n",
       "<table border=\"1\" class=\"dataframe\">\n",
       "  <thead>\n",
       "    <tr style=\"text-align: right;\">\n",
       "      <th></th>\n",
       "      <th>Tap-in</th>\n",
       "      <th>Count.Pengguna</th>\n",
       "      <th>Koridor</th>\n",
       "      <th>Order</th>\n",
       "    </tr>\n",
       "    <tr>\n",
       "      <th>Hour</th>\n",
       "      <th></th>\n",
       "      <th></th>\n",
       "      <th></th>\n",
       "      <th></th>\n",
       "    </tr>\n",
       "  </thead>\n",
       "  <tbody>\n",
       "    <tr>\n",
       "      <th>0</th>\n",
       "      <td>24150.5</td>\n",
       "      <td>48301</td>\n",
       "      <td>15862</td>\n",
       "      <td>23180</td>\n",
       "    </tr>\n",
       "    <tr>\n",
       "      <th>1</th>\n",
       "      <td>14032.5</td>\n",
       "      <td>28065</td>\n",
       "      <td>13893</td>\n",
       "      <td>20458</td>\n",
       "    </tr>\n",
       "    <tr>\n",
       "      <th>2</th>\n",
       "      <td>11371.0</td>\n",
       "      <td>22742</td>\n",
       "      <td>12697</td>\n",
       "      <td>18930</td>\n",
       "    </tr>\n",
       "    <tr>\n",
       "      <th>3</th>\n",
       "      <td>14044.0</td>\n",
       "      <td>28088</td>\n",
       "      <td>12980</td>\n",
       "      <td>19305</td>\n",
       "    </tr>\n",
       "    <tr>\n",
       "      <th>4</th>\n",
       "      <td>32931.0</td>\n",
       "      <td>65862</td>\n",
       "      <td>17886</td>\n",
       "      <td>25689</td>\n",
       "    </tr>\n",
       "  </tbody>\n",
       "</table>\n",
       "</div>"
      ],
      "text/plain": [
       "       Tap-in  Count.Pengguna  Koridor  Order\n",
       "Hour                                         \n",
       "0     24150.5           48301    15862  23180\n",
       "1     14032.5           28065    13893  20458\n",
       "2     11371.0           22742    12697  18930\n",
       "3     14044.0           28088    12980  19305\n",
       "4     32931.0           65862    17886  25689"
      ]
     },
     "execution_count": 8,
     "metadata": {},
     "output_type": "execute_result"
    }
   ],
   "source": [
    "byHour = busway.groupby('Hour').sum()\n",
    "byHour.head()"
   ]
  },
  {
   "cell_type": "markdown",
   "metadata": {},
   "source": [
    "** Now i create a simple plot off of the dataframe indicating the count of Tap-in per Hour. **"
   ]
  },
  {
   "cell_type": "code",
   "execution_count": 9,
   "metadata": {},
   "outputs": [
    {
     "data": {
      "text/plain": [
       "<matplotlib.axes._subplots.AxesSubplot at 0x1a0bf364e0>"
      ]
     },
     "execution_count": 9,
     "metadata": {},
     "output_type": "execute_result"
    },
    {
     "data": {
      "image/png": "[encoded data removed]",
      "text/plain": [
       "<Figure size 432x288 with 1 Axes>"
      ]
     },
     "metadata": {},
     "output_type": "display_data"
    }
   ],
   "source": [
    "# Could be any column\n",
    "byHour['Count.Pengguna'].plot()"
   ]
  },
  {
   "cell_type": "code",
   "execution_count": 51,
   "metadata": {},
   "outputs": [
    {
     "data": {
      "text/plain": [
       "<seaborn.axisgrid.FacetGrid at 0x1a1d3a17f0>"
      ]
     },
     "execution_count": 51,
     "metadata": {},
     "output_type": "execute_result"
    },
    {
     "data": {
      "text/plain": [
       "<Figure size 2160x2160 with 0 Axes>"
      ]
     },
     "metadata": {},
     "output_type": "display_data"
    },
    {
     "data": {
      "image/png": "[encoded data removed]",
      "text/plain": [
       "<Figure size 360x360 with 1 Axes>"
      ]
     },
     "metadata": {},
     "output_type": "display_data"
    }
   ],
   "source": [
    "plt.figure(figsize=(30,30))\n",
    "sns.lmplot(x='Hour',y='Tap-in',data=byHour.reset_index())"
   ]
  },
  {
   "cell_type": "markdown",
   "metadata": {},
   "source": [
    "** Now i create a gropuby object called byDay, where i group the DataFrame by the day column and use the count() method for aggregation. Using the head() method on this returned DataFrame. **"
   ]
  },
  {
   "cell_type": "code",
   "execution_count": 13,
   "metadata": {},
   "outputs": [
    {
     "data": {
      "text/html": [
       "<div>\n",
       "<style scoped>\n",
       "    .dataframe tbody tr th:only-of-type {\n",
       "        vertical-align: middle;\n",
       "    }\n",
       "\n",
       "    .dataframe tbody tr th {\n",
       "        vertical-align: top;\n",
       "    }\n",
       "\n",
       "    .dataframe thead th {\n",
       "        text-align: right;\n",
       "    }\n",
       "</style>\n",
       "<table border=\"1\" class=\"dataframe\">\n",
       "  <thead>\n",
       "    <tr style=\"text-align: right;\">\n",
       "      <th></th>\n",
       "      <th>Tap-in</th>\n",
       "      <th>Count.Pengguna</th>\n",
       "      <th>Hour</th>\n",
       "      <th>Koridor</th>\n",
       "      <th>Order</th>\n",
       "    </tr>\n",
       "    <tr>\n",
       "      <th>Hari</th>\n",
       "      <th></th>\n",
       "      <th></th>\n",
       "      <th></th>\n",
       "      <th></th>\n",
       "      <th></th>\n",
       "    </tr>\n",
       "  </thead>\n",
       "  <tbody>\n",
       "    <tr>\n",
       "      <th>Friday</th>\n",
       "      <td>1688848.5</td>\n",
       "      <td>3377697</td>\n",
       "      <td>128604</td>\n",
       "      <td>70880</td>\n",
       "      <td>98569</td>\n",
       "    </tr>\n",
       "    <tr>\n",
       "      <th>Monday</th>\n",
       "      <td>2192792.5</td>\n",
       "      <td>4385585</td>\n",
       "      <td>129027</td>\n",
       "      <td>71548</td>\n",
       "      <td>99475</td>\n",
       "    </tr>\n",
       "    <tr>\n",
       "      <th>Saturday</th>\n",
       "      <td>1311427.0</td>\n",
       "      <td>2622854</td>\n",
       "      <td>129039</td>\n",
       "      <td>71402</td>\n",
       "      <td>99079</td>\n",
       "    </tr>\n",
       "    <tr>\n",
       "      <th>Sunday</th>\n",
       "      <td>1281246.0</td>\n",
       "      <td>2562492</td>\n",
       "      <td>128619</td>\n",
       "      <td>71448</td>\n",
       "      <td>99377</td>\n",
       "    </tr>\n",
       "    <tr>\n",
       "      <th>Thursday</th>\n",
       "      <td>1707394.5</td>\n",
       "      <td>3414789</td>\n",
       "      <td>128943</td>\n",
       "      <td>71376</td>\n",
       "      <td>99100</td>\n",
       "    </tr>\n",
       "  </tbody>\n",
       "</table>\n",
       "</div>"
      ],
      "text/plain": [
       "             Tap-in  Count.Pengguna    Hour  Koridor  Order\n",
       "Hari                                                       \n",
       "Friday    1688848.5         3377697  128604    70880  98569\n",
       "Monday    2192792.5         4385585  129027    71548  99475\n",
       "Saturday  1311427.0         2622854  129039    71402  99079\n",
       "Sunday    1281246.0         2562492  128619    71448  99377\n",
       "Thursday  1707394.5         3414789  128943    71376  99100"
      ]
     },
     "execution_count": 13,
     "metadata": {},
     "output_type": "execute_result"
    }
   ],
   "source": [
    "byDay = busway.groupby('Hari').sum()\n",
    "byDay.head()"
   ]
  },
  {
   "cell_type": "markdown",
   "metadata": {},
   "source": [
    "** Now i create a simple plot off of the dataframe indicating the count of Tap-in per Day. **"
   ]
  },
  {
   "cell_type": "code",
   "execution_count": 14,
   "metadata": {},
   "outputs": [
    {
     "data": {
      "image/png": "[encoded data removed]",
      "text/plain": [
       "<Figure size 432x288 with 1 Axes>"
      ]
     },
     "metadata": {},
     "output_type": "display_data"
    }
   ],
   "source": [
    "# Could be any column\n",
    "busway.groupby('Hari').sum()['Tap-in'].plot()\n",
    "plt.tight_layout()"
   ]
  },
  {
   "cell_type": "markdown",
   "metadata": {},
   "source": [
    "** Now recreate this plot but i create 1 plot with each plot representing busiest days for the tap-in traffic**"
   ]
  },
  {
   "cell_type": "code",
   "execution_count": 15,
   "metadata": {},
   "outputs": [
    {
     "data": {
      "image/png": "[encoded data removed]",
      "text/plain": [
       "<Figure size 432x288 with 1 Axes>"
      ]
     },
     "metadata": {},
     "output_type": "display_data"
    }
   ],
   "source": [
    "busway[busway['Hari']=='Wednesday'].groupby('Koridor').sum()['Tap-in'].plot()\n",
    "plt.title('Traffic')\n",
    "plt.tight_layout()"
   ]
  },
  {
   "cell_type": "markdown",
   "metadata": {},
   "source": [
    "____\n",
    "** Now let's move on to creating  heatmaps with seaborn and our busway data. I'll first need to restructure the dataframe so that the columns become the Hours and the Index becomes the Coridors(Koridor). There are lots of ways to do this, but I would recommend trying to combine groupby with an [unstack](http://pandas.pydata.org/pandas-docs/stable/generated/pandas.DataFrame.unstack.html) method. Reference the solutions**"
   ]
  },
  {
   "cell_type": "code",
   "execution_count": 64,
   "metadata": {},
   "outputs": [
    {
     "data": {
      "text/html": [
       "<div>\n",
       "<style scoped>\n",
       "    .dataframe tbody tr th:only-of-type {\n",
       "        vertical-align: middle;\n",
       "    }\n",
       "\n",
       "    .dataframe tbody tr th {\n",
       "        vertical-align: top;\n",
       "    }\n",
       "\n",
       "    .dataframe thead th {\n",
       "        text-align: right;\n",
       "    }\n",
       "</style>\n",
       "<table border=\"1\" class=\"dataframe\">\n",
       "  <thead>\n",
       "    <tr style=\"text-align: right;\">\n",
       "      <th>Koridor</th>\n",
       "      <th>1</th>\n",
       "      <th>2</th>\n",
       "      <th>3</th>\n",
       "      <th>4</th>\n",
       "      <th>5</th>\n",
       "      <th>6</th>\n",
       "      <th>7</th>\n",
       "      <th>8</th>\n",
       "      <th>9</th>\n",
       "      <th>10</th>\n",
       "      <th>11</th>\n",
       "      <th>12</th>\n",
       "    </tr>\n",
       "    <tr>\n",
       "      <th>Hari</th>\n",
       "      <th></th>\n",
       "      <th></th>\n",
       "      <th></th>\n",
       "      <th></th>\n",
       "      <th></th>\n",
       "      <th></th>\n",
       "      <th></th>\n",
       "      <th></th>\n",
       "      <th></th>\n",
       "      <th></th>\n",
       "      <th></th>\n",
       "      <th></th>\n",
       "    </tr>\n",
       "  </thead>\n",
       "  <tbody>\n",
       "    <tr>\n",
       "      <th>Friday</th>\n",
       "      <td>296073.0</td>\n",
       "      <td>105833.0</td>\n",
       "      <td>151030.0</td>\n",
       "      <td>92908.0</td>\n",
       "      <td>114910.0</td>\n",
       "      <td>146741.0</td>\n",
       "      <td>100924.0</td>\n",
       "      <td>128720.5</td>\n",
       "      <td>249876.0</td>\n",
       "      <td>134149.0</td>\n",
       "      <td>53550.0</td>\n",
       "      <td>114134.0</td>\n",
       "    </tr>\n",
       "    <tr>\n",
       "      <th>Monday</th>\n",
       "      <td>374023.0</td>\n",
       "      <td>136192.0</td>\n",
       "      <td>199769.0</td>\n",
       "      <td>123181.0</td>\n",
       "      <td>146753.0</td>\n",
       "      <td>188459.5</td>\n",
       "      <td>138016.0</td>\n",
       "      <td>165620.5</td>\n",
       "      <td>324366.0</td>\n",
       "      <td>177827.0</td>\n",
       "      <td>68677.0</td>\n",
       "      <td>149908.5</td>\n",
       "    </tr>\n",
       "    <tr>\n",
       "      <th>Saturday</th>\n",
       "      <td>213512.0</td>\n",
       "      <td>89131.0</td>\n",
       "      <td>124427.0</td>\n",
       "      <td>68123.0</td>\n",
       "      <td>104137.0</td>\n",
       "      <td>78087.0</td>\n",
       "      <td>83776.0</td>\n",
       "      <td>102841.0</td>\n",
       "      <td>184444.0</td>\n",
       "      <td>106796.0</td>\n",
       "      <td>44272.0</td>\n",
       "      <td>111881.0</td>\n",
       "    </tr>\n",
       "    <tr>\n",
       "      <th>Sunday</th>\n",
       "      <td>252490.0</td>\n",
       "      <td>99583.0</td>\n",
       "      <td>127284.0</td>\n",
       "      <td>63511.0</td>\n",
       "      <td>91674.5</td>\n",
       "      <td>73177.5</td>\n",
       "      <td>81805.0</td>\n",
       "      <td>90691.0</td>\n",
       "      <td>161155.0</td>\n",
       "      <td>93214.0</td>\n",
       "      <td>38464.0</td>\n",
       "      <td>108197.0</td>\n",
       "    </tr>\n",
       "    <tr>\n",
       "      <th>Thursday</th>\n",
       "      <td>301500.0</td>\n",
       "      <td>105893.0</td>\n",
       "      <td>151496.0</td>\n",
       "      <td>95256.0</td>\n",
       "      <td>115764.5</td>\n",
       "      <td>149896.0</td>\n",
       "      <td>101401.0</td>\n",
       "      <td>128121.0</td>\n",
       "      <td>252266.0</td>\n",
       "      <td>135666.0</td>\n",
       "      <td>53835.0</td>\n",
       "      <td>116300.0</td>\n",
       "    </tr>\n",
       "  </tbody>\n",
       "</table>\n",
       "</div>"
      ],
      "text/plain": [
       "Koridor         1         2         3         4         5         6   \\\n",
       "Hari                                                                   \n",
       "Friday    296073.0  105833.0  151030.0   92908.0  114910.0  146741.0   \n",
       "Monday    374023.0  136192.0  199769.0  123181.0  146753.0  188459.5   \n",
       "Saturday  213512.0   89131.0  124427.0   68123.0  104137.0   78087.0   \n",
       "Sunday    252490.0   99583.0  127284.0   63511.0   91674.5   73177.5   \n",
       "Thursday  301500.0  105893.0  151496.0   95256.0  115764.5  149896.0   \n",
       "\n",
       "Koridor         7         8         9         10       11        12  \n",
       "Hari                                                                 \n",
       "Friday    100924.0  128720.5  249876.0  134149.0  53550.0  114134.0  \n",
       "Monday    138016.0  165620.5  324366.0  177827.0  68677.0  149908.5  \n",
       "Saturday   83776.0  102841.0  184444.0  106796.0  44272.0  111881.0  \n",
       "Sunday     81805.0   90691.0  161155.0   93214.0  38464.0  108197.0  \n",
       "Thursday  101401.0  128121.0  252266.0  135666.0  53835.0  116300.0  "
      ]
     },
     "execution_count": 64,
     "metadata": {},
     "output_type": "execute_result"
    }
   ],
   "source": [
    "dayCoridor = busway.groupby(by=['Hari','Koridor']).sum()['Tap-in'].unstack()\n",
    "dayCoridor.head()"
   ]
  },
  {
   "cell_type": "markdown",
   "metadata": {},
   "source": [
    "** Now create a HeatMap using this new DataFrame. **"
   ]
  },
  {
   "cell_type": "code",
   "execution_count": 65,
   "metadata": {},
   "outputs": [
    {
     "data": {
      "text/plain": [
       "<matplotlib.axes._subplots.AxesSubplot at 0x1a214326d8>"
      ]
     },
     "execution_count": 65,
     "metadata": {},
     "output_type": "execute_result"
    },
    {
     "data": {
      "image/png": "[encoded data removed]",
      "text/plain": [
       "<Figure size 936x720 with 2 Axes>"
      ]
     },
     "metadata": {},
     "output_type": "display_data"
    }
   ],
   "source": [
    "plt.figure(figsize=(13,10))\n",
    "sns.heatmap(dayCoridor,cmap='inferno')"
   ]
  },
  {
   "cell_type": "markdown",
   "metadata": {},
   "source": [
    "** Now create a clustermap using this DataFrame. **"
   ]
  },
  {
   "cell_type": "code",
   "execution_count": 63,
   "metadata": {},
   "outputs": [
    {
     "data": {
      "text/plain": [
       "<seaborn.matrix.ClusterGrid at 0x1a20cdb080>"
      ]
     },
     "execution_count": 63,
     "metadata": {},
     "output_type": "execute_result"
    },
    {
     "data": {
      "image/png": "[encoded data removed]",
      "text/plain": [
       "<Figure size 720x720 with 4 Axes>"
      ]
     },
     "metadata": {},
     "output_type": "display_data"
    }
   ],
   "source": [
    "sns.clustermap(dayCoridor,cmap='inferno')"
   ]
  },
  {
   "cell_type": "markdown",
   "metadata": {},
   "source": [
    "** Now repeat these same plots and operations, for a DataFrame that shows the day as the column. **"
   ]
  },
  {
   "cell_type": "code",
   "execution_count": 19,
   "metadata": {},
   "outputs": [
    {
     "data": {
      "text/html": [
       "<div>\n",
       "<style scoped>\n",
       "    .dataframe tbody tr th:only-of-type {\n",
       "        vertical-align: middle;\n",
       "    }\n",
       "\n",
       "    .dataframe tbody tr th {\n",
       "        vertical-align: top;\n",
       "    }\n",
       "\n",
       "    .dataframe thead th {\n",
       "        text-align: right;\n",
       "    }\n",
       "</style>\n",
       "<table border=\"1\" class=\"dataframe\">\n",
       "  <thead>\n",
       "    <tr style=\"text-align: right;\">\n",
       "      <th>Hour</th>\n",
       "      <th>0</th>\n",
       "      <th>1</th>\n",
       "      <th>2</th>\n",
       "      <th>3</th>\n",
       "      <th>4</th>\n",
       "      <th>5</th>\n",
       "      <th>6</th>\n",
       "      <th>7</th>\n",
       "      <th>8</th>\n",
       "      <th>9</th>\n",
       "      <th>...</th>\n",
       "      <th>14</th>\n",
       "      <th>15</th>\n",
       "      <th>16</th>\n",
       "      <th>17</th>\n",
       "      <th>18</th>\n",
       "      <th>19</th>\n",
       "      <th>20</th>\n",
       "      <th>21</th>\n",
       "      <th>22</th>\n",
       "      <th>23</th>\n",
       "    </tr>\n",
       "    <tr>\n",
       "      <th>Hari</th>\n",
       "      <th></th>\n",
       "      <th></th>\n",
       "      <th></th>\n",
       "      <th></th>\n",
       "      <th></th>\n",
       "      <th></th>\n",
       "      <th></th>\n",
       "      <th></th>\n",
       "      <th></th>\n",
       "      <th></th>\n",
       "      <th></th>\n",
       "      <th></th>\n",
       "      <th></th>\n",
       "      <th></th>\n",
       "      <th></th>\n",
       "      <th></th>\n",
       "      <th></th>\n",
       "      <th></th>\n",
       "      <th></th>\n",
       "      <th></th>\n",
       "      <th></th>\n",
       "    </tr>\n",
       "  </thead>\n",
       "  <tbody>\n",
       "    <tr>\n",
       "      <th>Friday</th>\n",
       "      <td>2662.5</td>\n",
       "      <td>1395.0</td>\n",
       "      <td>1149.0</td>\n",
       "      <td>1569.0</td>\n",
       "      <td>3612.5</td>\n",
       "      <td>83670.5</td>\n",
       "      <td>158420.0</td>\n",
       "      <td>146697.0</td>\n",
       "      <td>107514.5</td>\n",
       "      <td>77013.5</td>\n",
       "      <td>...</td>\n",
       "      <td>73676.0</td>\n",
       "      <td>87426.5</td>\n",
       "      <td>123319.0</td>\n",
       "      <td>182998.5</td>\n",
       "      <td>131576.0</td>\n",
       "      <td>88623.0</td>\n",
       "      <td>64962.0</td>\n",
       "      <td>52555.5</td>\n",
       "      <td>29992.5</td>\n",
       "      <td>7742.0</td>\n",
       "    </tr>\n",
       "    <tr>\n",
       "      <th>Monday</th>\n",
       "      <td>3614.5</td>\n",
       "      <td>2331.5</td>\n",
       "      <td>2286.5</td>\n",
       "      <td>2803.0</td>\n",
       "      <td>7732.5</td>\n",
       "      <td>124139.0</td>\n",
       "      <td>207902.0</td>\n",
       "      <td>190818.0</td>\n",
       "      <td>145868.5</td>\n",
       "      <td>109482.0</td>\n",
       "      <td>...</td>\n",
       "      <td>94778.0</td>\n",
       "      <td>115689.5</td>\n",
       "      <td>160299.5</td>\n",
       "      <td>230707.0</td>\n",
       "      <td>167713.0</td>\n",
       "      <td>110702.5</td>\n",
       "      <td>78939.5</td>\n",
       "      <td>52992.5</td>\n",
       "      <td>28081.5</td>\n",
       "      <td>7730.0</td>\n",
       "    </tr>\n",
       "    <tr>\n",
       "      <th>Saturday</th>\n",
       "      <td>3219.5</td>\n",
       "      <td>1592.0</td>\n",
       "      <td>1276.5</td>\n",
       "      <td>1462.5</td>\n",
       "      <td>3079.0</td>\n",
       "      <td>36942.0</td>\n",
       "      <td>68064.0</td>\n",
       "      <td>76336.5</td>\n",
       "      <td>76790.0</td>\n",
       "      <td>72463.5</td>\n",
       "      <td>...</td>\n",
       "      <td>87341.0</td>\n",
       "      <td>89018.5</td>\n",
       "      <td>97126.0</td>\n",
       "      <td>92993.0</td>\n",
       "      <td>79294.5</td>\n",
       "      <td>64530.0</td>\n",
       "      <td>57374.5</td>\n",
       "      <td>48222.5</td>\n",
       "      <td>34244.5</td>\n",
       "      <td>11501.0</td>\n",
       "    </tr>\n",
       "    <tr>\n",
       "      <th>Sunday</th>\n",
       "      <td>4680.5</td>\n",
       "      <td>2740.0</td>\n",
       "      <td>2056.5</td>\n",
       "      <td>2054.5</td>\n",
       "      <td>4254.0</td>\n",
       "      <td>34503.5</td>\n",
       "      <td>71267.5</td>\n",
       "      <td>65971.0</td>\n",
       "      <td>80664.0</td>\n",
       "      <td>93889.0</td>\n",
       "      <td>...</td>\n",
       "      <td>79553.5</td>\n",
       "      <td>81166.0</td>\n",
       "      <td>87616.5</td>\n",
       "      <td>80924.5</td>\n",
       "      <td>68575.5</td>\n",
       "      <td>60823.0</td>\n",
       "      <td>50967.5</td>\n",
       "      <td>37655.0</td>\n",
       "      <td>24842.0</td>\n",
       "      <td>6639.0</td>\n",
       "    </tr>\n",
       "    <tr>\n",
       "      <th>Thursday</th>\n",
       "      <td>3209.5</td>\n",
       "      <td>1876.5</td>\n",
       "      <td>1305.0</td>\n",
       "      <td>1741.5</td>\n",
       "      <td>4308.5</td>\n",
       "      <td>88267.5</td>\n",
       "      <td>162569.0</td>\n",
       "      <td>150079.5</td>\n",
       "      <td>111605.0</td>\n",
       "      <td>79741.0</td>\n",
       "      <td>...</td>\n",
       "      <td>73217.5</td>\n",
       "      <td>92037.0</td>\n",
       "      <td>128374.5</td>\n",
       "      <td>187319.5</td>\n",
       "      <td>131027.0</td>\n",
       "      <td>88162.5</td>\n",
       "      <td>64409.5</td>\n",
       "      <td>43469.5</td>\n",
       "      <td>23516.5</td>\n",
       "      <td>6203.5</td>\n",
       "    </tr>\n",
       "  </tbody>\n",
       "</table>\n",
       "<p>5 rows × 24 columns</p>\n",
       "</div>"
      ],
      "text/plain": [
       "Hour          0       1       2       3       4         5         6   \\\n",
       "Hari                                                                   \n",
       "Friday    2662.5  1395.0  1149.0  1569.0  3612.5   83670.5  158420.0   \n",
       "Monday    3614.5  2331.5  2286.5  2803.0  7732.5  124139.0  207902.0   \n",
       "Saturday  3219.5  1592.0  1276.5  1462.5  3079.0   36942.0   68064.0   \n",
       "Sunday    4680.5  2740.0  2056.5  2054.5  4254.0   34503.5   71267.5   \n",
       "Thursday  3209.5  1876.5  1305.0  1741.5  4308.5   88267.5  162569.0   \n",
       "\n",
       "Hour            7         8         9    ...          14        15        16  \\\n",
       "Hari                                     ...                                   \n",
       "Friday    146697.0  107514.5   77013.5   ...     73676.0   87426.5  123319.0   \n",
       "Monday    190818.0  145868.5  109482.0   ...     94778.0  115689.5  160299.5   \n",
       "Saturday   76336.5   76790.0   72463.5   ...     87341.0   89018.5   97126.0   \n",
       "Sunday     65971.0   80664.0   93889.0   ...     79553.5   81166.0   87616.5   \n",
       "Thursday  150079.5  111605.0   79741.0   ...     73217.5   92037.0  128374.5   \n",
       "\n",
       "Hour            17        18        19       20       21       22       23  \n",
       "Hari                                                                        \n",
       "Friday    182998.5  131576.0   88623.0  64962.0  52555.5  29992.5   7742.0  \n",
       "Monday    230707.0  167713.0  110702.5  78939.5  52992.5  28081.5   7730.0  \n",
       "Saturday   92993.0   79294.5   64530.0  57374.5  48222.5  34244.5  11501.0  \n",
       "Sunday     80924.5   68575.5   60823.0  50967.5  37655.0  24842.0   6639.0  \n",
       "Thursday  187319.5  131027.0   88162.5  64409.5  43469.5  23516.5   6203.5  \n",
       "\n",
       "[5 rows x 24 columns]"
      ]
     },
     "execution_count": 19,
     "metadata": {},
     "output_type": "execute_result"
    }
   ],
   "source": [
    "dayHour = busway.groupby(by=['Hari','Hour']).sum()['Tap-in'].unstack()\n",
    "dayHour.head()"
   ]
  },
  {
   "cell_type": "code",
   "execution_count": 66,
   "metadata": {},
   "outputs": [
    {
     "data": {
      "text/plain": [
       "<matplotlib.axes._subplots.AxesSubplot at 0x1a21a807f0>"
      ]
     },
     "execution_count": 66,
     "metadata": {},
     "output_type": "execute_result"
    },
    {
     "data": {
      "image/png": "[encoded data removed]",
      "text/plain": [
       "<Figure size 1008x720 with 2 Axes>"
      ]
     },
     "metadata": {},
     "output_type": "display_data"
    }
   ],
   "source": [
    "plt.figure(figsize=(14,10))\n",
    "sns.heatmap(dayHour,cmap='inferno')"
   ]
  },
  {
   "cell_type": "code",
   "execution_count": 44,
   "metadata": {},
   "outputs": [
    {
     "data": {
      "text/plain": [
       "<seaborn.matrix.ClusterGrid at 0x1a1c78ed30>"
      ]
     },
     "execution_count": 44,
     "metadata": {},
     "output_type": "execute_result"
    },
    {
     "data": {
      "text/plain": [
       "<Figure size 1008x720 with 0 Axes>"
      ]
     },
     "metadata": {},
     "output_type": "display_data"
    },
    {
     "data": {
      "image/png": "[encoded data removed]",
      "text/plain": [
       "<Figure size 720x720 with 4 Axes>"
      ]
     },
     "metadata": {},
     "output_type": "display_data"
    }
   ],
   "source": [
    "plt.figure(figsize=(14,10))\n",
    "sns.clustermap(dayHour,cmap='inferno')"
   ]
  },
  {
   "cell_type": "code",
   "execution_count": null,
   "metadata": {},
   "outputs": [],
   "source": []
  }
 ],
 "metadata": {
  "kernelspec": {
   "display_name": "Python 3",
   "language": "python",
   "name": "python3"
  },
  "language_info": {
   "codemirror_mode": {
    "name": "ipython",
    "version": 3
   },
   "file_extension": ".py",
   "mimetype": "text/x-python",
   "name": "python",
   "nbconvert_exporter": "python",
   "pygments_lexer": "ipython3",
   "version": "3.6.5"
  }
 },
 "nbformat": 4,
 "nbformat_minor": 2
}
